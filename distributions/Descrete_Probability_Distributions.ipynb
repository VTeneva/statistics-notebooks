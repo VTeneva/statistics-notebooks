{
 "cells": [
  {
   "cell_type": "code",
   "execution_count": 2,
   "metadata": {},
   "outputs": [],
   "source": [
    "from scipy.stats import bernoulli, binom, geom, hypergeom, poisson\n",
    "import matplotlib.pyplot as plt\n",
    "import pandas as pd"
   ]
  },
  {
   "cell_type": "markdown",
   "metadata": {},
   "source": [
    "# Discrete Probability Distribution\n",
    "\n",
    "Descrete random variables can take on a <strong>countable</strong> number of possible values. Examples on descreta random variables:\n",
    "* The number of fours if a dice is tossed 20 times \n",
    "* Number of heads when a coin is tossed twice\n",
    "\n",
    "#### The probability distriution of a discrete random variable X is a listing of all possible values of X and their probabilities of occuring. \n",
    "\n",
    "All discrete probability distributions must satisfy:\n",
    "1. $ 0 \\leq p(x) \\leq 1 $ for all x\n",
    "2. $ \\sum_{all x} p(x)= 1$ \n",
    "\n",
    "The formula used to calculate the probability of occuring is called <strong>probability mass function</strong>. \n",
    "\n",
    "The expected value E(X) is calculated as: \n",
    "$$ E(X) = \\sum_{i=1}^{n}x_{i}.p(x_{i}) $$\n",
    "Note it's usually not a possible value but just an arithmetic mean of the distribution.\n",
    "\n",
    "Variance $$ \\sigma^{2} = E[(X - \\mu)^{2}] = \\sum_{i=1}^{n}(x_{i} - \\mu).p(x_{i}) = E(X^{2}) - [E(X)]^{2} $$ \n",
    "\n",
    "The expectation of a mathematical function of x - g(x):\n",
    "$$ E[g(x)] = \\sum_{i=1}^{n}g(x_{i}).p(x_{i}) $$\n",
    "$$  $$"
   ]
  },
  {
   "cell_type": "markdown",
   "metadata": {},
   "source": [
    "## Bernoulli Distribution\n",
    "\n",
    "<strong>One</strong> trial. There two possible outcomes - success and failure.\n",
    "\n",
    "The probability mass function of success is $ P(X=1) = p $\n",
    "And the probability mass function of failure is $ P(X=0) = 1- p $.\n",
    "\n",
    "The <strong>mean</strong> is $ E(X) = p $\n",
    "\n",
    "<strong>Variance</strong> is calculated as $ \\sigma^{2} = p(1 - p) $"
   ]
  },
  {
   "cell_type": "markdown",
   "metadata": {},
   "source": [
    "<strong>Example. 1</strong> 1 in 200 balls in a urn is black, the rest are white. What is the probability to draw a black ball if we have only one trial? \n",
    "\n",
    "Black ball to be drawn\n",
    "$$ P(X = 1) = 1 / 200 = 0.005 $$\n",
    "\n",
    "White ball to be drawn\n",
    "$$ P(X = 0) = 199 / 200 = 0.995 $$"
   ]
  },
  {
   "cell_type": "code",
   "execution_count": 3,
   "metadata": {},
   "outputs": [
    {
     "data": {
      "text/plain": [
       "0.005000000000000002"
      ]
     },
     "execution_count": 3,
     "metadata": {},
     "output_type": "execute_result"
    }
   ],
   "source": [
    "black_ball_prob = 1 / 200\n",
    "bernoulli_dist = bernoulli(black_ball_prob)\n",
    "bernoulli_dist.pmf(1)"
   ]
  },
  {
   "cell_type": "markdown",
   "metadata": {},
   "source": [
    "## Binomial Distribution\n",
    "\n",
    "* There are <strong>independent</strong> Bernoulli trials - <strong>with replacement</strong>\n",
    "* There are <strong>two</strong> possible outcomes, labelled success and failure \n",
    "\n",
    "Answers the question: \"What is the probibily of x number of successes in n independent Bernoulli trials?\", for example \"What is the probability to toss 3 heads in 10 coin tosses?\"\n",
    "\n",
    "The <strong>probability mass function</strong> is calculated using the <strong>Bernoully formula</strong>:\n",
    "$$ P_{n}^{k}(X=k) = \\binom{n}{k} p^{k}(1 - p)^{n-k} $$\n",
    "where $ \\binom{n}{k} $ is the <strong>combinations formula</strong> also known as <strong>binomial coefficient</strong> : $$ \\binom{n}{k} = \\frac{n!}{k!(n-k)!} $$\n",
    "\n",
    "- n - number of independent trials\n",
    "- P(Success) = p\n",
    "- P(Failure) = 1 - p\n",
    "- k* - number of successes in n trials\n",
    "\n",
    "* can be notated as x\n",
    "\n",
    "The <strong>mean</strong> ($ \\mu $) of binomial distribution:\n",
    "$$ \\mu = np $$\n",
    "\n",
    "The <strong>variance</strong> ($ \\sigma^{2} $) of binomial distribution:\n",
    "$$ \\sigma^{2} = np(1 - p) $$"
   ]
  },
  {
   "cell_type": "markdown",
   "metadata": {},
   "source": [
    "<strong>Example. 1</strong> \n",
    "If we flip a coin, it would either be head or tail. Normal probability is <strong>0.5</strong> for both P(head) and p(tail). In binomial terms we say P(head) is the probability of a head showing up in a trial and (1 - P(head)) if head doesn’t show up.\n",
    "\n",
    "We flip a coin 6 times. What is the probability to have exactly 3 heads?\n",
    "\n",
    "$$ P_{6}^{3} = \\frac{6!}{3!(6 - 3)!} 0.5^{3}(1 - 0.5)^{(6 - 3)} = 0.3125 $$"
   ]
  },
  {
   "cell_type": "code",
   "execution_count": 8,
   "metadata": {},
   "outputs": [],
   "source": [
    "# Define the binomial distribution\n",
    "\n",
    "n = 6\n",
    "p = 0.5\n",
    "binom_dist_1 = binom(6, 0.5)\n",
    "\n",
    "binom_dist_x_1 = range(7)\n",
    "binom_dist_x_probabilities_1 = binom_dist_1.pmf(binom_dist_x_1)"
   ]
  },
  {
   "cell_type": "code",
   "execution_count": 9,
   "metadata": {},
   "outputs": [
    {
     "data": {
      "text/plain": [
       "0.3125000000000002"
      ]
     },
     "execution_count": 9,
     "metadata": {},
     "output_type": "execute_result"
    }
   ],
   "source": [
    "# The probability for having exactly 3 heads is 0.3125 as calculated above\n",
    "binom_dist_1.pmf(3)"
   ]
  },
  {
   "cell_type": "code",
   "execution_count": 11,
   "metadata": {},
   "outputs": [
    {
     "data": {
      "image/png": "[encoded data removed]",
      "text/plain": [
       "<matplotlib.figure.Figure at 0x7efdb90>"
      ]
     },
     "metadata": {},
     "output_type": "display_data"
    }
   ],
   "source": [
    "# Plot the distribution \n",
    "\n",
    "plt.vlines(binom_dist_x_1, 0, binom_dist_x_probabilities_1, color='green', linestyles='-')\n",
    "plt.title('Probability of having x number of heads') # Show the legend and remove the frame around it\n",
    "plt.ylim(ymin=0) # Set y axis to start at 0\n",
    "plt.show()"
   ]
  },
  {
   "cell_type": "markdown",
   "metadata": {},
   "source": [
    "<strong>Example. 2</strong> A dice is tossed 5 times. What is the probability of getting 2 fours?\n",
    "\n",
    "Probability of getting a four, as every other side of the dice, is $ \\frac{1}{6} $. Therefore, using Bernoulli formula, the probability of getting 2 fours is 0.1608.\n",
    "\n",
    "$$ P_{5}^{2} = \\frac{5!}{2!(5 - 2)!} (\\frac{1}{6})^{2}(1 - \\frac{1}{6})^{(5 - 2)} = 0.1608 $$"
   ]
  },
  {
   "cell_type": "code",
   "execution_count": 47,
   "metadata": {},
   "outputs": [
    {
     "data": {
      "text/plain": [
       "0.1607510288065844"
      ]
     },
     "execution_count": 47,
     "metadata": {},
     "output_type": "execute_result"
    }
   ],
   "source": [
    "10 * ((1 / 6) ** 2) * (5 / 6) ** 3"
   ]
  },
  {
   "cell_type": "code",
   "execution_count": 13,
   "metadata": {},
   "outputs": [],
   "source": [
    "n = 5\n",
    "toss_four_prob = 1 / 6\n",
    "binom_dist_2 = binom(n, toss_four_prob)\n",
    "\n",
    "binom_dist_x_2 = range(6)\n",
    "binom_dist_x_probabilities_2 = binom_dist_2.pmf(binom_dist_x_2) "
   ]
  },
  {
   "cell_type": "code",
   "execution_count": 14,
   "metadata": {},
   "outputs": [
    {
     "data": {
      "text/plain": [
       "0.16075102880658435"
      ]
     },
     "execution_count": 14,
     "metadata": {},
     "output_type": "execute_result"
    }
   ],
   "source": [
    "# The probability of getting 2 fours is 1.60751029e-01 or 0.1608\n",
    "binom_dist_2.pmf(2)"
   ]
  },
  {
   "cell_type": "code",
   "execution_count": 15,
   "metadata": {},
   "outputs": [
    {
     "data": {
      "image/png": "[encoded data removed]",
      "text/plain": [
       "<matplotlib.figure.Figure at 0x42d9f30>"
      ]
     },
     "metadata": {},
     "output_type": "display_data"
    }
   ],
   "source": [
    "plt.vlines(binom_dist_x_2, 0, binom_dist_x_probabilities_2, color='green')\n",
    "plt.title('Probability of tossing number of fours')\n",
    "plt.ylim(ymin=0) # Set y axis to start at 0\n",
    "plt.show()"
   ]
  },
  {
   "cell_type": "markdown",
   "metadata": {},
   "source": [
    "## Geometric distribution"
   ]
  },
  {
   "cell_type": "markdown",
   "metadata": {},
   "source": [
    "The distribution of the <strong>number of trials needed to get the first success</strong> in repeated Bernoulli trials. It's closely related to the Binomial distribution.\n",
    "\n",
    "The <strong>probability mass function</strong> is:\n",
    "$$ P(X = k) = p (1 - p)^{k - 1} $$\n",
    "\n",
    "- P(Success) = p\n",
    "- P(Failure) = (1 - p)\n",
    "- k - number of trials to get the first success\n",
    "- (k - 1) is the number of failures before the first success.\n",
    "\n",
    "The <strong>cumulative probability function</strong> is:\n",
    "$$ P(X \\leq k) = 1 - (1 - p)^{k} $$\n",
    "\n",
    "The <strong>mean</strong> ($ \\mu $) of geometric distribution:\n",
    "$$ \\mu = \\frac{1}{p} $$\n",
    "\n",
    "<strong>The mode is always 1(one).</strong>\n",
    "\n",
    "The <strong>variance</strong> ($ \\sigma^{2} $) of geometric distribution: \n",
    "$$ \\sigma^{2} = \\frac{1 - p}{p^{2}} $$"
   ]
  },
  {
   "cell_type": "markdown",
   "metadata": {},
   "source": [
    "<strong> Example. 1</strong> In a large population of adult, 30% have receive CPR training. \n",
    "What is the probability that the 6th person sampled is the first that has received CPR training? Adults are randomly selected.\n",
    "\n",
    "Five time must be sampled people who have not received any CPR training. The probability of sampling CPR trained person is 0.3. \n",
    "\n",
    "$$ P(X = 6) = 0.3(1 - 0.3)^{5} = 0.050421 $$"
   ]
  },
  {
   "cell_type": "code",
   "execution_count": 16,
   "metadata": {},
   "outputs": [],
   "source": [
    "# Define the geometric distribution for up to 15 people\n",
    "cpr_prob = 0.3\n",
    "geometric_dist_1 = geom(cpr_prob)\n",
    "\n",
    "geom_x_1 = range(15)\n",
    "geom_x_probabilities_1 = geometric_dist_1.pmf(geom_x_1)"
   ]
  },
  {
   "cell_type": "code",
   "execution_count": 17,
   "metadata": {},
   "outputs": [
    {
     "data": {
      "text/plain": [
       "0.05042099999999998"
      ]
     },
     "execution_count": 17,
     "metadata": {},
     "output_type": "execute_result"
    }
   ],
   "source": [
    "# The probability to sample the fisrt person that has received CPR training on the 6th trial is 0.050421\n",
    "\n",
    "geometric_dist_1.pmf(6)"
   ]
  },
  {
   "cell_type": "code",
   "execution_count": 18,
   "metadata": {},
   "outputs": [
    {
     "data": {
      "image/png": "[encoded data removed]",
      "text/plain": [
       "<matplotlib.figure.Figure at 0x9101a10>"
      ]
     },
     "metadata": {},
     "output_type": "display_data"
    }
   ],
   "source": [
    "# Plot the geometric distribution\n",
    "\n",
    "plt.vlines(geom_x_1, 0, geom_x_probabilities_1, color='green')\n",
    "\n",
    "plt.title('Probability of sampling the first CPR trained person') \n",
    "plt.ylim(ymin=0) # Start of y axis at 0 \n",
    "plt.xlim(xmin=0) # Start of x axis at 0 \n",
    "plt.show()"
   ]
  },
  {
   "cell_type": "markdown",
   "metadata": {},
   "source": [
    "<strong>Example. 2</strong> Marketing agency conducts a survey in a bank. Since, based on previous surveys, the percentage of unhappy clients is 10%, what is the probability to interview 15 happy clients until the first unhappy to be surveyed.   \n",
    "\n",
    "$$ P(X = 16) = 0.1(1 - 0.1)^{15} = 0.020589 $$"
   ]
  },
  {
   "cell_type": "code",
   "execution_count": 19,
   "metadata": {},
   "outputs": [],
   "source": [
    "unhappy_client_prob = 0.1\n",
    "geom_dist_2 = geom(unhappy_client_prob)\n",
    "\n",
    "geom_x_2 = range(17)\n",
    "geom_x_probabilities_2 = geom_dist_2.pmf(geom_x_2)"
   ]
  },
  {
   "cell_type": "code",
   "execution_count": 20,
   "metadata": {},
   "outputs": [
    {
     "data": {
      "text/plain": [
       "0.02058911320946491"
      ]
     },
     "execution_count": 20,
     "metadata": {},
     "output_type": "execute_result"
    }
   ],
   "source": [
    "# The probability 16th interviewed person to be the first unhappy client is 0.020589\n",
    "geom_dist_2.pmf(16)"
   ]
  },
  {
   "cell_type": "code",
   "execution_count": 21,
   "metadata": {},
   "outputs": [
    {
     "data": {
      "image/png": "[encoded data removed]",
      "text/plain": [
       "<matplotlib.figure.Figure at 0x910e7f0>"
      ]
     },
     "metadata": {},
     "output_type": "display_data"
    }
   ],
   "source": [
    "# Plot the distribution\n",
    "\n",
    "plt.vlines(geom_x_2, 0 , geom_x_probabilities_2, color='green')\n",
    "plt.ylim(ymin=0)\n",
    "plt.xlim(xmin=0)\n",
    "plt.title('Probability to survey unhappy client')\n",
    "plt.show()"
   ]
  },
  {
   "cell_type": "markdown",
   "metadata": {},
   "source": [
    "## Hypergeometric distribution\n",
    "\n",
    "* There are <strong>dependent</strong> Bernoulli trials - <strong>without replacement</strong>\n",
    "* There are <strong>two</strong> possible outcomes, labelled success and failure\n",
    "\n",
    "Answers the question: \"If we are randomly sampling n objects from without replacement source , what is the probability to \", for example \"\"\n",
    "\n",
    "The <strong>probability mass function</strong> is calculated as:\n",
    "$$ P_{n}^{k}(X=k) = \\frac{\\binom{a}{k} \\binom{N-a}{n-k}}{\\binom{N}{n}} $$\n",
    "where $ \\binom{n}{k} $ is the <strong>combinations formula</strong> also known as <strong>binomial coefficient</strong> : $$ \\binom{n}{k} = \\frac{n!}{k!(n-k)!} $$\n",
    "\n",
    "- a - total number of successes in the source\n",
    "- k* - number of sampled successes\n",
    "- N - total number of objects in the source\n",
    "- n - total number of sampled objects\n",
    "\n",
    "* can be notated as x\n",
    "\n",
    "All combinations can be interpred as follows:\n",
    "\n",
    "$ \\binom{a}{k} $ Possible combinations of sampled successes (k) from all successes in the source (a) \n",
    "\n",
    "$ \\binom{N-a}{n-k} $ Possible combinations of sampled failures (n - k) from all successes in the source (N - a)\n",
    "\n",
    "$ \\binom{N}{n} $ Possible combinations of sampled objects (n) from all objects in the source (N)\n",
    "\n",
    "The <strong>mean</strong> ($ \\mu $) of binomial distribution:\n",
    "$$ \\mu = np $$\n",
    "\n",
    "The <strong>variance</strong> ($ \\sigma^{2} $) of binomial distribution:\n",
    "$$ \\sigma^{2} = np(1 - p) $$\n",
    "\n",
    "#### The binomial distribution can provide a reasonable aproximation to the hypergeometric distribution. \n",
    "If we are not sampling more than 5% of the population, the binomial provides a very good aproximation. The reason is that the binomial   "
   ]
  },
  {
   "cell_type": "markdown",
   "metadata": {},
   "source": [
    "<strong>Example. 1</strong> An urn contains 6 red balls and 14 yellow balls. 5 balls are randomly drawn without replacement. What is the probability exactly 4 red balls to be drawn?\n",
    "\n",
    "$$ P(X=4) = \\frac{\\binom{6}{4} \\binom{14}{1}}{\\binom{20}{5}} = 0.013545 $$"
   ]
  },
  {
   "cell_type": "code",
   "execution_count": 22,
   "metadata": {},
   "outputs": [],
   "source": [
    "# Define the distribution\n",
    "red_balls_source = 6\n",
    "all_balls = 20\n",
    "sampled_balls = 5\n",
    "\n",
    "hypergeom_dist_1 = hypergeom(M=all_balls, n=red_balls_source, N=sampled_balls)\n",
    "\n",
    "hypergeom_x_1 = range(sampled_balls + 1)\n",
    "hypergeom_x_probabilities_1 = hypergeom_dist_1.pmf(hypergeom_x_1)"
   ]
  },
  {
   "cell_type": "code",
   "execution_count": 23,
   "metadata": {},
   "outputs": [
    {
     "data": {
      "text/plain": [
       "0.01354489164086685"
      ]
     },
     "execution_count": 23,
     "metadata": {},
     "output_type": "execute_result"
    }
   ],
   "source": [
    "# The probability to to sample 4 red balls out of 5 is 0.01354489164086685. \n",
    "hypergeom_dist_1.pmf(4)"
   ]
  },
  {
   "cell_type": "code",
   "execution_count": 24,
   "metadata": {},
   "outputs": [
    {
     "data": {
      "image/png": "[encoded data removed]",
      "text/plain": [
       "<matplotlib.figure.Figure at 0x917dcb0>"
      ]
     },
     "metadata": {},
     "output_type": "display_data"
    }
   ],
   "source": [
    "# Plot the distribution\n",
    "\n",
    "plt.vlines(hypergeom_x_1, 0, hypergeom_x_probabilities_1, color='green')\n",
    "plt.title('Prob to sample x red balls out of 5')\n",
    "plt.xlim(xmin=0)\n",
    "plt.ylim(ymin=0)\n",
    "plt.show()"
   ]
  },
  {
   "cell_type": "markdown",
   "metadata": {},
   "source": [
    "## Poisson distribution"
   ]
  },
  {
   "cell_type": "markdown",
   "metadata": {},
   "source": [
    "Poisson distribution is used for <strong>very rare</strong> events. It gives the probability of number of occurences of a event in a given unit of time, distance, area, etc. \n",
    "\n",
    "* Events are occuring independently and randomly\n",
    "* There are two possible outcomes\n",
    "\n",
    "The difference with binomial distribution is that in binomial the number of attempts is known (n), and each of those has a probability of success p. In poisson distribution the number of events is very large/continuous and the probability of success is very small (e.g. number of wrongful criminal convictions in a country, the number of dandelions in a square meter, etc.). In short, the binomial distribution counts descrete number of events in a a descrete number of attempts, the poisson distribution counts descrete number of events among a continuous domain.\n",
    "\n",
    "The probability mass function:\n",
    "\n",
    "$$ P(X=k) = \\frac{\\lambda^{k}e^{-\\lambda}}{k!} $$\n",
    "\n",
    "$\\lambda $ - np\n",
    "k - number of successes\n",
    "\n",
    "The <strong>mean</strong> is $ \\mu = \\lambda $\n",
    "\n",
    "The <strong>variance</strong> is $ \\sigma^{2} = \\lambda $"
   ]
  },
  {
   "cell_type": "markdown",
   "metadata": {},
   "source": [
    "<strong>Example. 1</strong> A life insurance salesman sells on the average 3 life insurance policies per week. Use Poisson's law to calculate the probability that in a given week he will sell\n",
    "\n",
    "$$ \\lambda = 3 $$\n",
    "\n",
    "* 2 policies\n",
    "$$ P(k=2) = \\frac{3^{2} e^{-3}}{2!} $$\n",
    "\n",
    "* Some policies\n",
    "$$ P(k>0) = 1 - P(xk0) $$\n",
    "$$ P(k=0) = \\frac{3^{0} e^{-3}}{0!} = 0.0498 $$\n",
    "$$ P(k>0) = 1 - 0.0498 = 0.9502 $$"
   ]
  },
  {
   "cell_type": "code",
   "execution_count": 25,
   "metadata": {},
   "outputs": [],
   "source": [
    "ins_lambda = 3\n",
    "poisson_dist_1 = poisson(ins_lambda)\n",
    "\n",
    "poisson_dist_x_1 = range(11)\n",
    "poisson_dist_x_probabilities_1 = poisson_dist_1.pmf(poisson_dist_x_1)"
   ]
  },
  {
   "cell_type": "code",
   "execution_count": 26,
   "metadata": {},
   "outputs": [
    {
     "data": {
      "text/plain": [
       "0.049787068367863944"
      ]
     },
     "execution_count": 26,
     "metadata": {},
     "output_type": "execute_result"
    }
   ],
   "source": [
    "# The probability of selling 0 insurances in a week is very low - 0.0498\n",
    "poisson_dist_1.pmf(0)"
   ]
  },
  {
   "cell_type": "code",
   "execution_count": 27,
   "metadata": {},
   "outputs": [
    {
     "data": {
      "text/plain": [
       "0.22404180765538775"
      ]
     },
     "execution_count": 27,
     "metadata": {},
     "output_type": "execute_result"
    }
   ],
   "source": [
    "# The probability of selling exactly 2 insurances in a week is ~ 22.40% \n",
    "poisson_dist_1.pmf(2)"
   ]
  },
  {
   "cell_type": "code",
   "execution_count": 28,
   "metadata": {},
   "outputs": [
    {
     "data": {
      "image/png": "[encoded data removed]",
      "text/plain": [
       "<matplotlib.figure.Figure at 0x91706d0>"
      ]
     },
     "metadata": {},
     "output_type": "display_data"
    }
   ],
   "source": [
    "# Plot the distribution\n",
    "plt.vlines(poisson_dist_x_1, 0, \n",
    "           poisson_dist_x_probabilities_1, \n",
    "           color='green')\n",
    "plt.title('Probability of having x number insurances sold in a week')\n",
    "plt.ylim(ymin=0)\n",
    "plt.xlim(xmin=0)\n",
    "plt.show()"
   ]
  }
 ],
 "metadata": {
  "kernelspec": {
   "display_name": "Python 3",
   "language": "python",
   "name": "python3"
  },
  "language_info": {
   "codemirror_mode": {
    "name": "ipython",
    "version": 3
   },
   "file_extension": ".py",
   "mimetype": "text/x-python",
   "name": "python",
   "nbconvert_exporter": "python",
   "pygments_lexer": "ipython3",
   "version": "3.6.4"
  }
 },
 "nbformat": 4,
 "nbformat_minor": 2
}
